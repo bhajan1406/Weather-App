{
 "cells": [
  {
   "cell_type": "code",
   "execution_count": 1,
   "id": "dfd30fce-7421-452c-aa70-89d62e91eaa6",
   "metadata": {},
   "outputs": [
    {
     "name": "stdout",
     "output_type": "stream",
     "text": [
      "Overwriting weather_app.py\n"
     ]
    }
   ],
   "source": [
    "%%writefile weather_app.py\n",
    "# Your full Streamlit app code goes here\n",
    "import streamlit as st\n",
    "import requests\n",
    "from datetime import datetime\n",
    "\n",
    "def get_weather(city):\n",
    "    api_key = \"bf056d41d700b0a5342f504b2209a89b\" \n",
    "    url = \"https://api.openweathermap.org/data/2.5/weather\"\n",
    "    params = {\"q\": city, \"appid\": api_key, \"units\": \"metric\"}\n",
    "    response = requests.get(url, params=params)\n",
    "\n",
    "    if response.status_code == 200:\n",
    "        data = response.json()\n",
    "        sunrise = datetime.fromtimestamp(data['sys']['sunrise']).strftime('%H:%M:%S')\n",
    "        sunset = datetime.fromtimestamp(data['sys']['sunset']).strftime('%H:%M:%S')\n",
    "        report = (\n",
    "            f\"📍 Weather in {city}\\n\"\n",
    "            f\"🌡 Temp: {data['main']['temp']}°C\\n\"\n",
    "            f\"☁ Condition: {data['weather'][0]['description'].capitalize()}\\n\"\n",
    "            f\"💧 Humidity: {data['main']['humidity']}%\\n\"\n",
    "            f\"💨 Wind: {data['wind']['speed']} m/s\\n\"\n",
    "            f\"🔆 Sunrise: {sunrise}\\n\"\n",
    "            f\"🌇 Sunset: {sunset}\\n\"\n",
    "        )\n",
    "        st.markdown(report)\n",
    "    else:\n",
    "        st.error(\"City not found.\")\n",
    "\n",
    "st.title(\"🌦️ Weather App\")\n",
    "city = st.text_input(\"Enter city name\")\n",
    "if city:\n",
    "    get_weather(city)"
   ]
  },
  {
   "cell_type": "code",
   "execution_count": null,
   "id": "6ba10e48-c3d0-41b1-b1ab-fa633908a970",
   "metadata": {},
   "outputs": [],
   "source": [
    "!streamlit run weather_app.py"
   ]
  },
  {
   "cell_type": "code",
   "execution_count": null,
   "id": "07ccaa7d-7b1a-484a-9bd4-9f391163bebb",
   "metadata": {},
   "outputs": [],
   "source": []
  }
 ],
 "metadata": {
  "kernelspec": {
   "display_name": "Python 3 (ipykernel)",
   "language": "python",
   "name": "python3"
  },
  "language_info": {
   "codemirror_mode": {
    "name": "ipython",
    "version": 3
   },
   "file_extension": ".py",
   "mimetype": "text/x-python",
   "name": "python",
   "nbconvert_exporter": "python",
   "pygments_lexer": "ipython3",
   "version": "3.11.7"
  }
 },
 "nbformat": 4,
 "nbformat_minor": 5
}
